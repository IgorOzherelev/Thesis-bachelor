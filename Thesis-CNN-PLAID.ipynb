{
 "cells": [
  {
   "cell_type": "code",
   "execution_count": 1,
   "metadata": {},
   "outputs": [],
   "source": [
    "%matplotlib inline\n",
    "\n",
    "import subprocess\n",
    "import numpy as np\n",
    "import matplotlib.pyplot as plt\n",
    "import matplotlib.cm as cm\n",
    "from datetime import datetime\n",
    "plt.style.use('ggplot')\n",
    "\n",
    "from pylab import rcParams\n",
    "rcParams['figure.figsize'] = (10, 6)\n",
    "\n",
    "import matplotlib\n",
    "font = {'family' : 'sans-serif',\n",
    "        'weight' : 'normal',\n",
    "        'size'   : 17}\n",
    "matplotlib.rc('font', **font)\n",
    "\n",
    "import warnings\n",
    "warnings.filterwarnings(\"ignore\")"
   ]
  },
  {
   "cell_type": "markdown",
   "metadata": {},
   "source": [
    "# Загрузка PLAID"
   ]
  },
  {
   "cell_type": "code",
   "execution_count": 2,
   "metadata": {},
   "outputs": [],
   "source": [
    "# functions to read data and meta data\n",
    "def read_data_given_id(path,ids,progress=True,last_offset=0):\n",
    "    '''read data given a list of ids and CSV paths'''\n",
    "    start = datetime.now()\n",
    "    n = len(ids)\n",
    "    if n == 0:\n",
    "        return {}\n",
    "    else:\n",
    "        data = {}\n",
    "        for (i,ist_id) in enumerate(ids, start=1):\n",
    "            if progress and np.mod(i,np.ceil(n/10))==0:\n",
    "                print('%d/%d (%2.0f%s) have been read...\\t time consumed: %ds'\\\n",
    "                      %(i,n,i/n*100,'%',(datetime.now()-start).seconds))\n",
    "            if last_offset==0:\n",
    "                data[ist_id] = np.genfromtxt(path+str(ist_id)+'.csv',delimiter=',',\\\n",
    "                                         names='current,voltage',dtype=(float,float))\n",
    "            else:\n",
    "                p=subprocess.Popen(['tail','-'+str(int(last_offset)),path+str(ist_id)+'.csv'],\\\n",
    "                                   stdout=subprocess.PIPE)\n",
    "                data[ist_id] = np.genfromtxt(p.stdout,delimiter=',',names='current,voltage',dtype=(float,float))\n",
    "        print('%d/%d (%2.0f%s) have been read(Done!) \\t time consumed: %ds'\\\n",
    "            %(n,n,100,'%',(datetime.now()-start).seconds)) \n",
    "        return data"
   ]
  },
  {
   "cell_type": "code",
   "execution_count": 3,
   "metadata": {},
   "outputs": [],
   "source": [
    "import json\n",
    "\n",
    "Data_path = '../PLAID_s'\n",
    "csv_path = Data_path + '/submetered/submetered_new/'\n",
    "#csv_path = Data_path + '/aggregated/'\n",
    "\n",
    "# # read meta\n",
    "with open(Data_path + '/metadata_submetered.json') as data_file:    \n",
    "     meta1 = json.load(data_file)"
   ]
  },
  {
   "cell_type": "code",
   "execution_count": 4,
   "metadata": {},
   "outputs": [],
   "source": [
    "IDs_for_read_data = list(meta1.keys())\n",
    "Types = [meta1[key]['appliance']['type'] for key in IDs_for_read_data]\n",
    "Unq_type = list(set(Types))\n",
    "Unq_type.sort()\n",
    "Locs = [meta1[key]['header']['collection_time'] + '_' + meta1[key]['location'] for key in meta1.keys()]\n",
    "Unq_loc = list(set(Locs))\n",
    "Unq_loc.sort()\n",
    "Original_Unq_type = Unq_type"
   ]
  },
  {
   "cell_type": "code",
   "execution_count": 5,
   "metadata": {},
   "outputs": [
    {
     "name": "stdout",
     "output_type": "stream",
     "text": [
      "Number of households: 65\n",
      "Number of total measurements:1876\n"
     ]
    }
   ],
   "source": [
    "print('Number of households: %d\\nNumber of total measurements:%d'%(len(Unq_loc),len(Locs)))"
   ]
  },
  {
   "cell_type": "code",
   "execution_count": 6,
   "metadata": {},
   "outputs": [
    {
     "name": "stdout",
     "output_type": "stream",
     "text": [
      "188/1876 (10%) have been read...\t time consumed: 4s\n",
      "376/1876 (20%) have been read...\t time consumed: 9s\n",
      "564/1876 (30%) have been read...\t time consumed: 14s\n",
      "752/1876 (40%) have been read...\t time consumed: 19s\n",
      "940/1876 (50%) have been read...\t time consumed: 24s\n",
      "1128/1876 (60%) have been read...\t time consumed: 29s\n",
      "1316/1876 (70%) have been read...\t time consumed: 35s\n",
      "1504/1876 (80%) have been read...\t time consumed: 41s\n",
      "1692/1876 (90%) have been read...\t time consumed: 46s\n",
      "1876/1876 (100%) have been read(Done!) \t time consumed: 52s\n"
     ]
    }
   ],
   "source": [
    "# read data\n",
    "# estimated time cost:  ~ 1 mins\n",
    "npts = 10000\n",
    "Data = read_data_given_id(csv_path,IDs_for_read_data,progress=True, last_offset=npts)"
   ]
  },
  {
   "cell_type": "code",
   "execution_count": 7,
   "metadata": {},
   "outputs": [
    {
     "name": "stdout",
     "output_type": "stream",
     "text": [
      "Total number of instances:1876\n"
     ]
    }
   ],
   "source": [
    "print('Total number of instances:%d'%len(Data))"
   ]
  },
  {
   "cell_type": "code",
   "execution_count": 8,
   "metadata": {},
   "outputs": [
    {
     "data": {
      "text/plain": [
       "array([-0.57, -0.55, -0.54, ..., -0.69, -0.7 , -0.67])"
      ]
     },
     "execution_count": 8,
     "metadata": {},
     "output_type": "execute_result"
    }
   ],
   "source": [
    "Data['1']['current']"
   ]
  },
  {
   "cell_type": "code",
   "execution_count": 9,
   "metadata": {},
   "outputs": [
    {
     "data": {
      "text/plain": [
       "array([0.15, 0.23, 0.44, ..., 0.04, 0.04, 0.04])"
      ]
     },
     "execution_count": 9,
     "metadata": {},
     "output_type": "execute_result"
    }
   ],
   "source": [
    "Data['3']['current']"
   ]
  },
  {
   "cell_type": "code",
   "execution_count": 10,
   "metadata": {},
   "outputs": [],
   "source": [
    "fs = 30000\n",
    "f0 = 60\n",
    "NS = fs//f0 # number of samples per period\n",
    "NP = npts//NS # number of periods for npts\n",
    "\n",
    "# calculate the representative one period of steady state \n",
    "# (mean of the aggregated signals over one cycle)\n",
    "n = len(Data)\n",
    "rep_I = np.empty([n,NS])\n",
    "rep_V = np.empty([n,NS])\n",
    "for i in range(n):\n",
    "    tempI = np.sum(np.reshape(Data[str(i+1)]['current'],[NP,NS]),0)/NP\n",
    "    tempV = np.sum(np.reshape(Data[str(i+1)]['voltage'],[NP,NS]),0)/NP\n",
    "    # align current to make all samples start from 0 and goes up\n",
    "    ix = np.argsort(np.abs(tempI))\n",
    "    j = 0\n",
    "    while True:\n",
    "        if ix[j]<499 and tempI[ix[j]+1]>tempI[ix[j]]:\n",
    "            real_ix = ix[j]\n",
    "            break\n",
    "        else:\n",
    "            j += 1\n",
    "    rep_I[i,] = np.hstack([tempI[real_ix:],tempI[:real_ix]])\n",
    "    rep_V[i,] = np.hstack([tempV[real_ix:],tempV[:real_ix]])"
   ]
  },
  {
   "cell_type": "code",
   "execution_count": 11,
   "metadata": {},
   "outputs": [
    {
     "name": "stdout",
     "output_type": "stream",
     "text": [
      "number of different types: 16\n",
      "number of different households: 65\n"
     ]
    }
   ],
   "source": [
    "type_Ids = {}\n",
    "loc_Ids = {}\n",
    "n = len(Data)\n",
    "type_label = np.zeros(n,dtype='int')\n",
    "loc_label = np.zeros(n,dtype='int')\n",
    "for (ii, t) in enumerate(Unq_type):\n",
    "    type_Ids[t] = [i-1 for i,j in enumerate(Types,start=1) if j == t]\n",
    "    type_label[type_Ids[t]] = ii + 1\n",
    "for (ii, t) in enumerate(Unq_loc):\n",
    "    loc_Ids[t] = [i-1 for i,j in enumerate(Locs,start=1) if j == t]\n",
    "    loc_label[loc_Ids[t]] = ii + 1\n",
    "print('number of different types: %d'% len(Unq_type))\n",
    "print('number of different households: %d'% len(Unq_loc))"
   ]
  },
  {
   "cell_type": "code",
   "execution_count": 12,
   "metadata": {},
   "outputs": [
    {
     "name": "stdout",
     "output_type": "stream",
     "text": [
      "['Air Conditioner', 'Blender', 'Coffee maker', 'Compact Fluorescent Lamp', 'Fan', 'Fridge', 'Hair Iron', 'Hairdryer', 'Heater', 'Incandescent Light Bulb', 'Laptop', 'Microwave', 'Soldering Iron', 'Vacuum', 'Washing Machine', 'Water kettle']\n",
      "Similified verstion:\n",
      "['AC', 'CFL', 'Coffee maker', 'Compact Fluorescent Lamp', 'Fan', 'Fridge', 'Bulb', 'Hairdryer', 'Heater', 'Incandescent Light Bulb', 'Washer', 'Microwave', 'Soldering Iron', 'Vacuum', 'Washing Machine', 'Water kettle']\n"
     ]
    },
    {
     "data": {
      "image/png": "[encoded data removed]",
      "text/plain": [
       "<Figure size 720x432 with 1 Axes>"
      ]
     },
     "metadata": {},
     "output_type": "display_data"
    }
   ],
   "source": [
    "plt.hist(type_label,len(Unq_type))\n",
    "plt.title('distirbution of instances for each type')\n",
    "print(Original_Unq_type)\n",
    "print('Similified verstion:')\n",
    "Unq_type[0]='AC';\n",
    "Unq_type[1]='CFL';\n",
    "Unq_type[6]='Bulb';\n",
    "Unq_type[10]='Washer';\n",
    "print(Unq_type)\n",
    "plt.savefig('type_dist.eps', format='eps')"
   ]
  },
  {
   "cell_type": "code",
   "execution_count": 13,
   "metadata": {},
   "outputs": [
    {
     "data": {
      "image/png": "[encoded data removed]",
      "text/plain": [
       "<Figure size 720x432 with 1 Axes>"
      ]
     },
     "metadata": {},
     "output_type": "display_data"
    }
   ],
   "source": [
    "plt.hist(loc_label,len(Unq_loc))\n",
    "plt.title('distirbution of instances for each household')\n",
    "plt.savefig('house_dist.eps', format='eps')"
   ]
  },
  {
   "cell_type": "markdown",
   "metadata": {},
   "source": [
    "# Линейные модели"
   ]
  },
  {
   "cell_type": "code",
   "execution_count": 14,
   "metadata": {},
   "outputs": [],
   "source": [
    "import sklearn\n",
    "from sklearn.model_selection import train_test_split\n",
    "from sklearn.preprocessing import StandardScaler\n",
    "from sklearn.metrics import accuracy_score\n",
    "\n",
    "from sklearn.neighbors import KNeighborsClassifier\n",
    "from sklearn.naive_bayes import GaussianNB\n",
    "from sklearn.linear_model import LogisticRegression\n",
    "from sklearn import svm\n",
    "from sklearn.discriminant_analysis import QuadraticDiscriminantAnalysis as QDA \n",
    "from sklearn.discriminant_analysis import LinearDiscriminantAnalysis as LDA\n",
    "from sklearn import tree\n",
    "from sklearn.ensemble import RandomForestClassifier, AdaBoostClassifier\n",
    "from sklearn.metrics import roc_curve\n",
    "\n",
    "def myclassifiers(X_train,y_train,X_test,y_test,verbose=False):\n",
    "    \n",
    "    knn = KNeighborsClassifier(n_neighbors=1)\n",
    "    gnb = GaussianNB()\n",
    "    logistic = LogisticRegression(C=1e5)\n",
    "    svc = svm.SVC(kernel='rbf',gamma=.7,C=1.0)\n",
    "    lda = LDA(solver='lsqr', shrinkage='auto')\n",
    "    qda = QDA()\n",
    "    dTree = tree.DecisionTreeClassifier(max_depth=10)\n",
    "    rForest = RandomForestClassifier(max_depth=10,n_estimators=20)\n",
    "    adaBoost = AdaBoostClassifier()\n",
    "    \n",
    "    \n",
    "    names = [\"Nearest Neighbors(k=1)\", \"Naive Bayes\",\"Logistic\",\"RBF SVM\", \"LDA\", \"QDA\",\n",
    "             \"Decision Tree\",\"Random Forest\", \"AdaBoost\"]\n",
    "    classifiers = [knn, gnb, logistic, svc, lda, qda, dTree, rForest, adaBoost]\n",
    "    y_predict = []\n",
    "    acc = []\n",
    "#     print('Running',end=\"\")\n",
    "    for (i,clf) in enumerate(classifiers):\n",
    "        if verbose:\n",
    "            print(' %s... '% names[i],end=\"\")\n",
    "        clf.fit(X_train,y_train)\n",
    "        y_predict.append(clf.predict(X_test))\n",
    "        acc.append(clf.score(X_test,y_test))\n",
    "    return (acc,y_predict,names)"
   ]
  },
  {
   "cell_type": "code",
   "execution_count": 15,
   "metadata": {},
   "outputs": [
    {
     "data": {
      "text/plain": [
       "((1876, 500), (1876, 500))"
      ]
     },
     "execution_count": 15,
     "metadata": {},
     "output_type": "execute_result"
    }
   ],
   "source": [
    "rep_I.shape, rep_V.shape"
   ]
  },
  {
   "cell_type": "code",
   "execution_count": 16,
   "metadata": {},
   "outputs": [
    {
     "data": {
      "text/plain": [
       "(500,)"
      ]
     },
     "execution_count": 16,
     "metadata": {},
     "output_type": "execute_result"
    }
   ],
   "source": [
    "rep_I[4].shape"
   ]
  },
  {
   "cell_type": "code",
   "execution_count": 297,
   "metadata": {},
   "outputs": [],
   "source": [
    "X_train, X_test, y_train, y_test = train_test_split(rep_V[3:,:], type_label[3:], test_size=0.1, random_state=0)\n",
    "(acc, y_p, names) = myclassifiers(X_train, y_train, X_test, y_test)"
   ]
  },
  {
   "cell_type": "code",
   "execution_count": 18,
   "metadata": {},
   "outputs": [
    {
     "data": {
      "text/plain": [
       "[0.9680851063829787,\n",
       " 0.5638297872340425,\n",
       " 0.3776595744680851,\n",
       " 0.11702127659574468,\n",
       " 0.4308510638297872,\n",
       " 0.3617021276595745,\n",
       " 0.8723404255319149,\n",
       " 0.9202127659574468,\n",
       " 0.17553191489361702]"
      ]
     },
     "execution_count": 18,
     "metadata": {},
     "output_type": "execute_result"
    }
   ],
   "source": [
    "# точность для линейных моделей в порядке names\n",
    "acc"
   ]
  },
  {
   "cell_type": "markdown",
   "metadata": {},
   "source": [
    "# CNN по напряжению"
   ]
  },
  {
   "cell_type": "code",
   "execution_count": null,
   "metadata": {},
   "outputs": [],
   "source": [
    "!pip install keras\n",
    "!pip install tensorflow"
   ]
  },
  {
   "cell_type": "code",
   "execution_count": 298,
   "metadata": {},
   "outputs": [],
   "source": [
    "import pywt\n",
    "from collections import defaultdict, Counter\n",
    "import keras\n",
    "from keras.layers import Dense, Flatten\n",
    "from keras.layers import Conv2D, MaxPooling2D\n",
    "from keras.models import Sequential\n",
    "from keras.callbacks import History "
   ]
  },
  {
   "cell_type": "code",
   "execution_count": 299,
   "metadata": {},
   "outputs": [
    {
     "data": {
      "text/plain": [
       "(1685, 500)"
      ]
     },
     "execution_count": 299,
     "metadata": {},
     "output_type": "execute_result"
    }
   ],
   "source": [
    "X_train.shape"
   ]
  },
  {
   "cell_type": "code",
   "execution_count": 300,
   "metadata": {},
   "outputs": [
    {
     "data": {
      "text/plain": [
       "(500,)"
      ]
     },
     "execution_count": 300,
     "metadata": {},
     "output_type": "execute_result"
    }
   ],
   "source": [
    "X_train[0].shape"
   ]
  },
  {
   "cell_type": "code",
   "execution_count": 301,
   "metadata": {},
   "outputs": [],
   "source": [
    "img_x = 25\n",
    "img_y = 10\n",
    "img_z = 2\n",
    "\n",
    "num_classes = 17\n",
    "\n",
    "x_train = X_train.reshape(X_train.shape[0], img_x, img_y, img_z)"
   ]
  },
  {
   "cell_type": "code",
   "execution_count": 302,
   "metadata": {},
   "outputs": [
    {
     "data": {
      "text/plain": [
       "(1876, 500)"
      ]
     },
     "execution_count": 302,
     "metadata": {},
     "output_type": "execute_result"
    }
   ],
   "source": [
    "rep_I.shape"
   ]
  },
  {
   "cell_type": "code",
   "execution_count": 303,
   "metadata": {},
   "outputs": [],
   "source": [
    "x_test = X_test.reshape(X_test.shape[0], img_x, img_y, img_z)"
   ]
  },
  {
   "cell_type": "code",
   "execution_count": 304,
   "metadata": {},
   "outputs": [
    {
     "name": "stdout",
     "output_type": "stream",
     "text": [
      "x_train shape: (1685, 25, 10, 2)\n",
      "1685 train samples\n",
      "188 test samples\n"
     ]
    }
   ],
   "source": [
    "print('x_train shape:', x_train.shape)\n",
    "print(x_train.shape[0], 'train samples')\n",
    "print(x_test.shape[0], 'test samples')"
   ]
  },
  {
   "cell_type": "code",
   "execution_count": 305,
   "metadata": {},
   "outputs": [],
   "source": [
    "y_train = keras.utils.to_categorical(y_train, num_classes)\n",
    "y_test = keras.utils.to_categorical(y_test, num_classes)"
   ]
  },
  {
   "cell_type": "code",
   "execution_count": 315,
   "metadata": {},
   "outputs": [
    {
     "name": "stdout",
     "output_type": "stream",
     "text": [
      "Epoch 1/100\n",
      "7/7 [==============================] - 1s 134ms/step - loss: 101.2578 - accuracy: 0.1205 - val_loss: 126.4823 - val_accuracy: 0.2021\n",
      "Epoch 2/100\n",
      "7/7 [==============================] - 1s 124ms/step - loss: 90.0003 - accuracy: 0.1855 - val_loss: 44.4330 - val_accuracy: 0.3032\n",
      "Epoch 3/100\n",
      "7/7 [==============================] - 1s 128ms/step - loss: 27.2373 - accuracy: 0.2710 - val_loss: 9.7072 - val_accuracy: 0.3777\n",
      "Epoch 4/100\n",
      "7/7 [==============================] - 1s 117ms/step - loss: 6.2094 - accuracy: 0.3316 - val_loss: 2.2840 - val_accuracy: 0.2287\n",
      "Epoch 5/100\n",
      "7/7 [==============================] - 1s 119ms/step - loss: 1.9031 - accuracy: 0.3825 - val_loss: 1.7156 - val_accuracy: 0.4255\n",
      "Epoch 6/100\n",
      "7/7 [==============================] - 1s 119ms/step - loss: 1.5611 - accuracy: 0.4274 - val_loss: 1.6595 - val_accuracy: 0.3032\n",
      "Epoch 7/100\n",
      "7/7 [==============================] - 1s 120ms/step - loss: 1.4424 - accuracy: 0.4485 - val_loss: 1.5055 - val_accuracy: 0.4947\n",
      "Epoch 8/100\n",
      "7/7 [==============================] - 1s 118ms/step - loss: 1.3568 - accuracy: 0.4924 - val_loss: 1.4488 - val_accuracy: 0.4255\n",
      "Epoch 9/100\n",
      "7/7 [==============================] - 1s 124ms/step - loss: 1.2720 - accuracy: 0.5181 - val_loss: 1.3956 - val_accuracy: 0.4521\n",
      "Epoch 10/100\n",
      "7/7 [==============================] - 1s 118ms/step - loss: 1.2083 - accuracy: 0.5229 - val_loss: 1.3454 - val_accuracy: 0.4468\n",
      "Epoch 11/100\n",
      "7/7 [==============================] - 1s 131ms/step - loss: 1.1754 - accuracy: 0.5508 - val_loss: 1.2912 - val_accuracy: 0.5319\n",
      "Epoch 12/100\n",
      "7/7 [==============================] - 1s 119ms/step - loss: 1.1551 - accuracy: 0.5294 - val_loss: 1.2696 - val_accuracy: 0.5000\n",
      "Epoch 13/100\n",
      "7/7 [==============================] - 1s 122ms/step - loss: 1.0982 - accuracy: 0.5707 - val_loss: 1.2096 - val_accuracy: 0.5266\n",
      "Epoch 14/100\n",
      "7/7 [==============================] - 1s 129ms/step - loss: 1.0766 - accuracy: 0.5947 - val_loss: 1.2214 - val_accuracy: 0.5053\n",
      "Epoch 15/100\n",
      "7/7 [==============================] - 1s 118ms/step - loss: 1.0098 - accuracy: 0.6046 - val_loss: 1.2146 - val_accuracy: 0.5479\n",
      "Epoch 16/100\n",
      "7/7 [==============================] - 1s 117ms/step - loss: 1.0415 - accuracy: 0.5908 - val_loss: 1.1953 - val_accuracy: 0.4894\n",
      "Epoch 17/100\n",
      "7/7 [==============================] - 1s 115ms/step - loss: 1.0074 - accuracy: 0.6172 - val_loss: 1.1511 - val_accuracy: 0.5372\n",
      "Epoch 18/100\n",
      "7/7 [==============================] - 1s 124ms/step - loss: 0.9861 - accuracy: 0.6011 - val_loss: 1.1903 - val_accuracy: 0.4840\n",
      "Epoch 19/100\n",
      "7/7 [==============================] - 1s 124ms/step - loss: 0.9612 - accuracy: 0.6276 - val_loss: 1.0982 - val_accuracy: 0.5638\n",
      "Epoch 20/100\n",
      "7/7 [==============================] - 1s 119ms/step - loss: 0.9606 - accuracy: 0.6363 - val_loss: 1.0611 - val_accuracy: 0.5691\n",
      "Epoch 21/100\n",
      "7/7 [==============================] - 1s 122ms/step - loss: 0.9415 - accuracy: 0.6435 - val_loss: 1.0404 - val_accuracy: 0.6383\n",
      "Epoch 22/100\n",
      "7/7 [==============================] - 1s 132ms/step - loss: 0.9225 - accuracy: 0.6399 - val_loss: 1.0927 - val_accuracy: 0.5691\n",
      "Epoch 23/100\n",
      "7/7 [==============================] - 1s 117ms/step - loss: 0.9090 - accuracy: 0.6473 - val_loss: 1.0163 - val_accuracy: 0.6223\n",
      "Epoch 24/100\n",
      "7/7 [==============================] - 1s 120ms/step - loss: 0.8948 - accuracy: 0.6403 - val_loss: 1.0485 - val_accuracy: 0.6011\n",
      "Epoch 25/100\n",
      "7/7 [==============================] - 1s 133ms/step - loss: 0.8968 - accuracy: 0.6502 - val_loss: 1.0496 - val_accuracy: 0.5585\n",
      "Epoch 26/100\n",
      "7/7 [==============================] - 1s 119ms/step - loss: 0.8613 - accuracy: 0.6604 - val_loss: 0.9982 - val_accuracy: 0.6543\n",
      "Epoch 27/100\n",
      "7/7 [==============================] - 1s 126ms/step - loss: 0.8203 - accuracy: 0.6910 - val_loss: 1.0222 - val_accuracy: 0.6011\n",
      "Epoch 28/100\n",
      "7/7 [==============================] - 1s 118ms/step - loss: 0.8161 - accuracy: 0.6820 - val_loss: 1.0275 - val_accuracy: 0.5532\n",
      "Epoch 29/100\n",
      "7/7 [==============================] - 1s 122ms/step - loss: 0.7879 - accuracy: 0.7135 - val_loss: 0.9949 - val_accuracy: 0.6117\n",
      "Epoch 30/100\n",
      "7/7 [==============================] - 1s 120ms/step - loss: 0.7905 - accuracy: 0.6896 - val_loss: 0.9963 - val_accuracy: 0.6277\n",
      "Epoch 31/100\n",
      "7/7 [==============================] - 1s 125ms/step - loss: 0.8146 - accuracy: 0.7005 - val_loss: 1.0315 - val_accuracy: 0.5426\n",
      "Epoch 32/100\n",
      "7/7 [==============================] - 1s 123ms/step - loss: 0.7872 - accuracy: 0.6960 - val_loss: 0.9332 - val_accuracy: 0.6862\n",
      "Epoch 33/100\n",
      "7/7 [==============================] - 1s 127ms/step - loss: 0.7440 - accuracy: 0.7206 - val_loss: 1.0306 - val_accuracy: 0.5851\n",
      "Epoch 34/100\n",
      "7/7 [==============================] - 1s 118ms/step - loss: 0.7964 - accuracy: 0.6813 - val_loss: 0.9888 - val_accuracy: 0.6011\n",
      "Epoch 35/100\n",
      "7/7 [==============================] - 1s 121ms/step - loss: 0.7646 - accuracy: 0.7005 - val_loss: 0.9316 - val_accuracy: 0.6383\n",
      "Epoch 36/100\n",
      "7/7 [==============================] - 1s 115ms/step - loss: 0.7615 - accuracy: 0.6991 - val_loss: 0.9343 - val_accuracy: 0.6596\n",
      "Epoch 37/100\n",
      "7/7 [==============================] - 1s 138ms/step - loss: 0.7529 - accuracy: 0.7155 - val_loss: 0.9151 - val_accuracy: 0.6543\n",
      "Epoch 38/100\n",
      "7/7 [==============================] - 1s 131ms/step - loss: 0.7254 - accuracy: 0.7172 - val_loss: 0.9225 - val_accuracy: 0.6277\n",
      "Epoch 39/100\n",
      "7/7 [==============================] - 1s 123ms/step - loss: 0.7059 - accuracy: 0.7400 - val_loss: 0.8941 - val_accuracy: 0.6809\n",
      "Epoch 40/100\n",
      "7/7 [==============================] - 1s 135ms/step - loss: 0.6893 - accuracy: 0.7276 - val_loss: 0.8932 - val_accuracy: 0.6755\n",
      "Epoch 41/100\n",
      "7/7 [==============================] - 1s 121ms/step - loss: 0.6976 - accuracy: 0.7329 - val_loss: 0.9149 - val_accuracy: 0.6702\n",
      "Epoch 42/100\n",
      "7/7 [==============================] - 1s 136ms/step - loss: 0.6961 - accuracy: 0.7282 - val_loss: 0.8995 - val_accuracy: 0.6809\n",
      "Epoch 43/100\n",
      "7/7 [==============================] - 1s 120ms/step - loss: 0.6838 - accuracy: 0.7461 - val_loss: 0.8837 - val_accuracy: 0.7234\n",
      "Epoch 44/100\n",
      "7/7 [==============================] - 1s 123ms/step - loss: 0.7027 - accuracy: 0.7323 - val_loss: 0.8776 - val_accuracy: 0.6702\n",
      "Epoch 45/100\n",
      "7/7 [==============================] - 1s 122ms/step - loss: 0.6554 - accuracy: 0.7534 - val_loss: 0.8503 - val_accuracy: 0.6968\n",
      "Epoch 46/100\n",
      "7/7 [==============================] - 1s 124ms/step - loss: 0.6426 - accuracy: 0.7641 - val_loss: 0.8494 - val_accuracy: 0.7021\n",
      "Epoch 47/100\n",
      "7/7 [==============================] - 1s 125ms/step - loss: 0.6338 - accuracy: 0.7547 - val_loss: 0.8435 - val_accuracy: 0.6543\n",
      "Epoch 48/100\n",
      "7/7 [==============================] - 1s 122ms/step - loss: 0.6630 - accuracy: 0.7526 - val_loss: 0.8332 - val_accuracy: 0.7181\n",
      "Epoch 49/100\n",
      "7/7 [==============================] - 1s 123ms/step - loss: 0.6631 - accuracy: 0.7380 - val_loss: 0.8922 - val_accuracy: 0.6862\n",
      "Epoch 50/100\n",
      "7/7 [==============================] - 1s 127ms/step - loss: 0.7022 - accuracy: 0.7275 - val_loss: 0.9064 - val_accuracy: 0.6968\n",
      "Epoch 51/100\n",
      "7/7 [==============================] - 1s 120ms/step - loss: 0.6837 - accuracy: 0.7343 - val_loss: 0.8564 - val_accuracy: 0.6862\n",
      "Epoch 52/100\n",
      "7/7 [==============================] - 1s 121ms/step - loss: 0.6382 - accuracy: 0.7599 - val_loss: 0.8354 - val_accuracy: 0.7394\n",
      "Epoch 53/100\n",
      "7/7 [==============================] - 1s 119ms/step - loss: 0.6481 - accuracy: 0.7446 - val_loss: 0.8647 - val_accuracy: 0.6702\n",
      "Epoch 54/100\n",
      "7/7 [==============================] - 1s 125ms/step - loss: 0.6398 - accuracy: 0.7618 - val_loss: 0.8198 - val_accuracy: 0.7234\n",
      "Epoch 55/100\n",
      "7/7 [==============================] - 1s 122ms/step - loss: 0.6297 - accuracy: 0.7491 - val_loss: 0.8555 - val_accuracy: 0.6862\n",
      "Epoch 56/100\n",
      "7/7 [==============================] - 1s 120ms/step - loss: 0.5958 - accuracy: 0.7712 - val_loss: 0.8137 - val_accuracy: 0.6862\n",
      "Epoch 57/100\n",
      "7/7 [==============================] - 1s 119ms/step - loss: 0.5702 - accuracy: 0.7860 - val_loss: 0.7906 - val_accuracy: 0.7128\n",
      "Epoch 58/100\n",
      "7/7 [==============================] - 1s 122ms/step - loss: 0.5929 - accuracy: 0.7834 - val_loss: 0.7829 - val_accuracy: 0.7340\n"
     ]
    },
    {
     "name": "stdout",
     "output_type": "stream",
     "text": [
      "Epoch 59/100\n",
      "7/7 [==============================] - 1s 116ms/step - loss: 0.5996 - accuracy: 0.7801 - val_loss: 0.7939 - val_accuracy: 0.7128\n",
      "Epoch 60/100\n",
      "7/7 [==============================] - 1s 117ms/step - loss: 0.5758 - accuracy: 0.7718 - val_loss: 0.7813 - val_accuracy: 0.7128\n",
      "Epoch 61/100\n",
      "7/7 [==============================] - 1s 116ms/step - loss: 0.5630 - accuracy: 0.7914 - val_loss: 0.7509 - val_accuracy: 0.7447\n",
      "Epoch 62/100\n",
      "7/7 [==============================] - 1s 115ms/step - loss: 0.5270 - accuracy: 0.8137 - val_loss: 0.8107 - val_accuracy: 0.7074\n",
      "Epoch 63/100\n",
      "7/7 [==============================] - 1s 115ms/step - loss: 0.5408 - accuracy: 0.7996 - val_loss: 0.8277 - val_accuracy: 0.6915\n",
      "Epoch 64/100\n",
      "7/7 [==============================] - 1s 115ms/step - loss: 0.5476 - accuracy: 0.7904 - val_loss: 0.7879 - val_accuracy: 0.7394\n",
      "Epoch 65/100\n",
      "7/7 [==============================] - 1s 119ms/step - loss: 0.5148 - accuracy: 0.8122 - val_loss: 0.8002 - val_accuracy: 0.6968\n",
      "Epoch 66/100\n",
      "7/7 [==============================] - 1s 116ms/step - loss: 0.5366 - accuracy: 0.7996 - val_loss: 0.7785 - val_accuracy: 0.7128\n",
      "Epoch 67/100\n",
      "7/7 [==============================] - 1s 117ms/step - loss: 0.5369 - accuracy: 0.7975 - val_loss: 0.7384 - val_accuracy: 0.7234\n",
      "Epoch 68/100\n",
      "7/7 [==============================] - 1s 116ms/step - loss: 0.5141 - accuracy: 0.8071 - val_loss: 0.7281 - val_accuracy: 0.7447\n",
      "Epoch 69/100\n",
      "7/7 [==============================] - 1s 118ms/step - loss: 0.5185 - accuracy: 0.8118 - val_loss: 0.7860 - val_accuracy: 0.6915\n",
      "Epoch 70/100\n",
      "7/7 [==============================] - 1s 117ms/step - loss: 0.5257 - accuracy: 0.8008 - val_loss: 0.7109 - val_accuracy: 0.7500\n",
      "Epoch 71/100\n",
      "7/7 [==============================] - 1s 119ms/step - loss: 0.5107 - accuracy: 0.8130 - val_loss: 0.7590 - val_accuracy: 0.7287\n",
      "Epoch 72/100\n",
      "7/7 [==============================] - 1s 118ms/step - loss: 0.5016 - accuracy: 0.8255 - val_loss: 0.6861 - val_accuracy: 0.7660\n",
      "Epoch 73/100\n",
      "7/7 [==============================] - 1s 118ms/step - loss: 0.4933 - accuracy: 0.8211 - val_loss: 0.8143 - val_accuracy: 0.6968\n",
      "Epoch 74/100\n",
      "7/7 [==============================] - 1s 119ms/step - loss: 0.4898 - accuracy: 0.8160 - val_loss: 0.7171 - val_accuracy: 0.7500\n",
      "Epoch 75/100\n",
      "7/7 [==============================] - 1s 118ms/step - loss: 0.5233 - accuracy: 0.7956 - val_loss: 0.7426 - val_accuracy: 0.7181\n",
      "Epoch 76/100\n",
      "7/7 [==============================] - 1s 117ms/step - loss: 0.5303 - accuracy: 0.7954 - val_loss: 0.7703 - val_accuracy: 0.7340\n",
      "Epoch 77/100\n",
      "7/7 [==============================] - 1s 117ms/step - loss: 0.5061 - accuracy: 0.8023 - val_loss: 0.8215 - val_accuracy: 0.7074\n",
      "Epoch 78/100\n",
      "7/7 [==============================] - 1s 117ms/step - loss: 0.5029 - accuracy: 0.8137 - val_loss: 0.7867 - val_accuracy: 0.7181\n",
      "Epoch 79/100\n",
      "7/7 [==============================] - 1s 116ms/step - loss: 0.5030 - accuracy: 0.8158 - val_loss: 0.8738 - val_accuracy: 0.6383\n",
      "Epoch 80/100\n",
      "7/7 [==============================] - 1s 117ms/step - loss: 0.5529 - accuracy: 0.7846 - val_loss: 0.7392 - val_accuracy: 0.7394\n",
      "Epoch 81/100\n",
      "7/7 [==============================] - 1s 117ms/step - loss: 0.4925 - accuracy: 0.8168 - val_loss: 0.8348 - val_accuracy: 0.6755\n",
      "Epoch 82/100\n",
      "7/7 [==============================] - 1s 117ms/step - loss: 0.4864 - accuracy: 0.8261 - val_loss: 0.7227 - val_accuracy: 0.7553\n",
      "Epoch 83/100\n",
      "7/7 [==============================] - 1s 117ms/step - loss: 0.4498 - accuracy: 0.8442 - val_loss: 0.7067 - val_accuracy: 0.7340\n",
      "Epoch 84/100\n",
      "7/7 [==============================] - 1s 117ms/step - loss: 0.4897 - accuracy: 0.8142 - val_loss: 0.7727 - val_accuracy: 0.7181\n",
      "Epoch 85/100\n",
      "7/7 [==============================] - 1s 117ms/step - loss: 0.4373 - accuracy: 0.8368 - val_loss: 0.7214 - val_accuracy: 0.7340\n",
      "Epoch 86/100\n",
      "7/7 [==============================] - 1s 118ms/step - loss: 0.4420 - accuracy: 0.8508 - val_loss: 0.7220 - val_accuracy: 0.7287\n",
      "Epoch 87/100\n",
      "7/7 [==============================] - 1s 118ms/step - loss: 0.4523 - accuracy: 0.8332 - val_loss: 0.6762 - val_accuracy: 0.7553\n",
      "Epoch 88/100\n",
      "7/7 [==============================] - 1s 115ms/step - loss: 0.4212 - accuracy: 0.8559 - val_loss: 0.6651 - val_accuracy: 0.7766\n",
      "Epoch 89/100\n",
      "7/7 [==============================] - 1s 117ms/step - loss: 0.4190 - accuracy: 0.8477 - val_loss: 0.6671 - val_accuracy: 0.7926\n",
      "Epoch 90/100\n",
      "7/7 [==============================] - 1s 116ms/step - loss: 0.4258 - accuracy: 0.8479 - val_loss: 0.6656 - val_accuracy: 0.7606\n",
      "Epoch 91/100\n",
      "7/7 [==============================] - 1s 118ms/step - loss: 0.4479 - accuracy: 0.8331 - val_loss: 0.6436 - val_accuracy: 0.7926\n",
      "Epoch 92/100\n",
      "7/7 [==============================] - 1s 119ms/step - loss: 0.4536 - accuracy: 0.8345 - val_loss: 0.6207 - val_accuracy: 0.7979\n",
      "Epoch 93/100\n",
      "7/7 [==============================] - 1s 120ms/step - loss: 0.3914 - accuracy: 0.8618 - val_loss: 0.6210 - val_accuracy: 0.7819\n",
      "Epoch 94/100\n",
      "7/7 [==============================] - 1s 125ms/step - loss: 0.3993 - accuracy: 0.8545 - val_loss: 0.6487 - val_accuracy: 0.7819\n",
      "Epoch 95/100\n",
      "7/7 [==============================] - 1s 129ms/step - loss: 0.4123 - accuracy: 0.8487 - val_loss: 0.6338 - val_accuracy: 0.7553\n",
      "Epoch 96/100\n",
      "7/7 [==============================] - 1s 128ms/step - loss: 0.4187 - accuracy: 0.8525 - val_loss: 0.6783 - val_accuracy: 0.7713\n",
      "Epoch 97/100\n",
      "7/7 [==============================] - 1s 130ms/step - loss: 0.3939 - accuracy: 0.8543 - val_loss: 0.6417 - val_accuracy: 0.7819\n",
      "Epoch 98/100\n",
      "7/7 [==============================] - 1s 123ms/step - loss: 0.3975 - accuracy: 0.8594 - val_loss: 0.6664 - val_accuracy: 0.7660\n",
      "Epoch 99/100\n",
      "7/7 [==============================] - 1s 127ms/step - loss: 0.3993 - accuracy: 0.8634 - val_loss: 0.6128 - val_accuracy: 0.7926\n",
      "Epoch 100/100\n",
      "7/7 [==============================] - 1s 125ms/step - loss: 0.3918 - accuracy: 0.8653 - val_loss: 0.6274 - val_accuracy: 0.7819\n",
      "Train loss: 0.34981951117515564, Train accuracy: 0.8747774362564087\n",
      "Test loss: 0.6274406909942627, Test accuracy: 0.7819148898124695\n"
     ]
    }
   ],
   "source": [
    "input_shape = (img_x, img_y, img_z)\n",
    "batch_size = 250\n",
    "epochs = 100\n",
    "history = History()\n",
    "\n",
    "model = Sequential()\n",
    "model.add(Conv2D(32, kernel_size=(2, 2), strides=(1, 1), activation='relu', input_shape=input_shape)) \n",
    "model.add(MaxPooling2D(pool_size=(3, 3), strides=(1, 1)))\n",
    "model.add(Conv2D(64, (2, 2), activation='relu'))\n",
    "model.add(MaxPooling2D(pool_size=(1, 1)))\n",
    "model.add(Flatten())\n",
    "model.add(Dense(1000, activation='relu'))\n",
    "model_VI_image.add(Dropout(0.5, input_shape=(1,)))\n",
    "model.add(Dense(num_classes, activation='softmax'))\n",
    "\n",
    "model.compile(loss=keras.losses.categorical_crossentropy, \n",
    "              optimizer=keras.optimizers.Adam(), \n",
    "              metrics=['accuracy'])\n",
    "\n",
    "model.fit(x_train, y_train, batch_size=batch_size, \n",
    "          epochs=epochs, verbose=1, \n",
    "          validation_data=(x_test, y_test), \n",
    "          callbacks=[history])\n",
    "\n",
    "train_score = model.evaluate(x_train, y_train, verbose=0)\n",
    "print('Train loss: {}, Train accuracy: {}'.format(train_score[0], train_score[1]))\n",
    "test_score = model.evaluate(x_test, y_test, verbose=0)\n",
    "print('Test loss: {}, Test accuracy: {}'.format(test_score[0], test_score[1]))"
   ]
  },
  {
   "cell_type": "code",
   "execution_count": 320,
   "metadata": {},
   "outputs": [
    {
     "data": {
      "image/png": "[encoded data removed]",
      "text/plain": [
       "<Figure size 720x432 with 1 Axes>"
      ]
     },
     "metadata": {},
     "output_type": "display_data"
    }
   ],
   "source": [
    "plt.plot(history.epoch, np.array(history.history['val_loss']),\n",
    "           label = 'Test loss')\n",
    "plt.plot(history.epoch, np.array(history.history['loss']),\n",
    "           label = 'Train loss')\n",
    "plt.legend()\n",
    "plt.show()"
   ]
  },
  {
   "cell_type": "code",
   "execution_count": 319,
   "metadata": {},
   "outputs": [
    {
     "data": {
      "image/png": "[encoded data removed]",
      "text/plain": [
       "<Figure size 720x432 with 1 Axes>"
      ]
     },
     "metadata": {},
     "output_type": "display_data"
    }
   ],
   "source": [
    "plt.plot(history.epoch[80:100], np.array(history.history['val_loss'][80:100]),\n",
    "           label = 'Test loss')\n",
    "plt.plot(history.epoch[80:100], np.array(history.history['loss'][80:100]),\n",
    "           label = 'Train loss')\n",
    "plt.legend()\n",
    "plt.show()"
   ]
  },
  {
   "cell_type": "code",
   "execution_count": 317,
   "metadata": {},
   "outputs": [
    {
     "data": {
      "text/plain": [
       "dict_keys(['loss', 'accuracy', 'val_loss', 'val_accuracy'])"
      ]
     },
     "execution_count": 317,
     "metadata": {},
     "output_type": "execute_result"
    }
   ],
   "source": [
    "history.history.keys()"
   ]
  },
  {
   "cell_type": "code",
   "execution_count": 318,
   "metadata": {},
   "outputs": [
    {
     "data": {
      "image/png": "[encoded data removed]",
      "text/plain": [
       "<Figure size 720x432 with 1 Axes>"
      ]
     },
     "metadata": {},
     "output_type": "display_data"
    }
   ],
   "source": [
    "plt.plot(history.epoch, np.array(history.history['accuracy']),\n",
    "           label = 'Train accuracy')\n",
    "plt.plot(history.epoch, np.array(history.history['val_accuracy']),\n",
    "           label = 'Test accuracy')\n",
    "plt.legend()\n",
    "plt.show()\n"
   ]
  },
  {
   "cell_type": "code",
   "execution_count": null,
   "metadata": {},
   "outputs": [],
   "source": []
  },
  {
   "cell_type": "code",
   "execution_count": null,
   "metadata": {},
   "outputs": [],
   "source": []
  },
  {
   "cell_type": "code",
   "execution_count": null,
   "metadata": {},
   "outputs": [],
   "source": []
  },
  {
   "cell_type": "markdown",
   "metadata": {},
   "source": [
    "# CNN по фигурам Лиссажу"
   ]
  },
  {
   "cell_type": "code",
   "execution_count": 42,
   "metadata": {},
   "outputs": [],
   "source": [
    "def center(X,w):\n",
    "    minX = np.amin(X)\n",
    "    maxX = np.amax(X)\n",
    "    dist = max(abs(minX),maxX)\n",
    "    X[X<-dist] = -dist\n",
    "    X[X>dist] = dist\n",
    "    d = (maxX-minX)/w\n",
    "    return (X,d)\n",
    "    \n",
    "def get_img_from_VI(V, I, width,hard_threshold=False,para=.5):\n",
    "    '''Get images from VI, hard_threshold, set para as threshold to cut off,5-10\n",
    "    soft_threshold, set para to .1-.5 to shrink the intensity'''\n",
    "    \n",
    "    d = V.shape[0]\n",
    "    # doing interploation if number of points is less than width*2\n",
    "    if d<2* width:\n",
    "        newI = np.hstack([V, V[0]])\n",
    "        newV = np.hstack([I, I[0]])\n",
    "        oldt = np.linspace(0,d,d+1)\n",
    "        newt = np.linspace(0,d,2*width)\n",
    "        I = np.interp(newt,oldt,newI)\n",
    "        V = np.interp(newt,oldt,newV)\n",
    "    # center the current and voltage, get the size resolution of mesh given width    \n",
    "    (I,d_c)  = center(I,width)\n",
    "    (V,d_v)  = center(V,width)\n",
    "    \n",
    "    #  find the index where the VI goes through in current-voltage axis\n",
    "    ind_c = np.floor((I-np.amin(I))/d_c).astype(int)\n",
    "    ind_v = np.floor((V-np.amin(V))/d_v).astype(int)\n",
    "    ind_c[ind_c==width] = width-1\n",
    "    ind_v[ind_v==width] = width-1\n",
    "    \n",
    "    Img = np.zeros((width,width))\n",
    "    \n",
    "    for i in range(len(I)):\n",
    "        Img[ind_c[i],width-ind_v[i]-1] += 1\n",
    "    \n",
    "    if hard_threshold:\n",
    "        Img[Img<para] = 0\n",
    "        Img[Img!=0] = 1\n",
    "        return Img\n",
    "    else:\n",
    "        return (Img/np.max(Img))**para"
   ]
  },
  {
   "cell_type": "code",
   "execution_count": 43,
   "metadata": {},
   "outputs": [],
   "source": [
    "n = len(Data)\n",
    "width = 16\n",
    "\n",
    "Imgs = np.zeros((n,width,width), dtype=np.float64)\n",
    "for i in range(n):\n",
    "    Imgs[i,:,:] = get_img_from_VI(rep_V[i,], rep_I[i,], width,True,1)\n",
    "BinaryF=np.reshape(Imgs,(n,width*width))"
   ]
  },
  {
   "cell_type": "code",
   "execution_count": 44,
   "metadata": {},
   "outputs": [
    {
     "data": {
      "image/png": "[encoded data removed]",
      "text/plain": [
       "<Figure size 1008x1008 with 204 Axes>"
      ]
     },
     "metadata": {},
     "output_type": "display_data"
    }
   ],
   "source": [
    "# visualization of all imgaes from certain type in Imgs\n",
    "type_id = 1\n",
    "n = sum(type_label==type_id)\n",
    "fig = plt.figure(figsize=(14,np.ceil(n/15)))\n",
    "count = 1\n",
    "for i in np.where(type_label==type_id)[0]:\n",
    "    plt.subplot(np.ceil(n/10),15,count)\n",
    "    plt.imshow(Imgs[i,:,:],cmap = cm.Greys_r,interpolation='None')\n",
    "    plt.gca().xaxis.set_major_locator(plt.NullLocator())\n",
    "    plt.gca().yaxis.set_major_locator(plt.NullLocator())\n",
    "#     plt.title('Id: '+str(k),fontsize=10)\n",
    "    count += 1\n",
    "fig.tight_layout()\n",
    "plt.show()"
   ]
  },
  {
   "cell_type": "code",
   "execution_count": 48,
   "metadata": {},
   "outputs": [
    {
     "name": "stdout",
     "output_type": "stream",
     "text": [
      "type label: [ 4  4  4 ... 13  2  2]\n",
      "location label: [11 11 11 ...  1  1  1]\n",
      "number of different types: 16\n",
      " ['AC', 'CFL', 'Coffee maker', 'Compact Fluorescent Lamp', 'Fan', 'Fridge', 'Bulb', 'Hairdryer', 'Heater', 'Incandescent Light Bulb', 'Washer', 'Microwave', 'Soldering Iron', 'Vacuum', 'Washing Machine', 'Water kettle']\n",
      "number of different households: 65\b\n"
     ]
    }
   ],
   "source": [
    "print('type label:',type_label)\n",
    "print('location label:', loc_label)\n",
    "print('number of different types: %d\\n'% len(Unq_type),Unq_type)\n",
    "print('number of different households: %d\\b'% len(Unq_loc))"
   ]
  },
  {
   "cell_type": "code",
   "execution_count": 217,
   "metadata": {},
   "outputs": [],
   "source": [
    "X_train_VI_image, X_test_VI_image, y_train_VI_image, y_test_VI_image = train_test_split(BinaryF, type_label, test_size=0.1, random_state=42)"
   ]
  },
  {
   "cell_type": "code",
   "execution_count": 218,
   "metadata": {},
   "outputs": [
    {
     "data": {
      "text/plain": [
       "(1688, 256)"
      ]
     },
     "execution_count": 218,
     "metadata": {},
     "output_type": "execute_result"
    }
   ],
   "source": [
    "X_train_VI_image.shape"
   ]
  },
  {
   "cell_type": "code",
   "execution_count": 219,
   "metadata": {},
   "outputs": [
    {
     "data": {
      "text/plain": [
       "(1688,)"
      ]
     },
     "execution_count": 219,
     "metadata": {},
     "output_type": "execute_result"
    }
   ],
   "source": [
    "y_train_VI_image.shape"
   ]
  },
  {
   "cell_type": "code",
   "execution_count": 289,
   "metadata": {},
   "outputs": [],
   "source": [
    "history_VI_image = History()"
   ]
  },
  {
   "cell_type": "code",
   "execution_count": 221,
   "metadata": {},
   "outputs": [],
   "source": [
    "img_x_VI = 16\n",
    "img_y_VI = 8\n",
    "img_z_VI = 2\n",
    "\n",
    "num_classes = 17\n",
    "\n",
    "x_train_VI_image = X_train_VI_image.reshape(X_train_VI_image.shape[0], img_x_VI, img_y_VI, img_z_VI)"
   ]
  },
  {
   "cell_type": "code",
   "execution_count": 222,
   "metadata": {},
   "outputs": [],
   "source": [
    "y_train_VI_image = keras.utils.to_categorical(y_train_VI_image, num_classes)\n",
    "y_test_VI_image = keras.utils.to_categorical(y_test_VI_image, num_classes)"
   ]
  },
  {
   "cell_type": "code",
   "execution_count": 223,
   "metadata": {},
   "outputs": [],
   "source": [
    "x_test_VI_image = X_test_VI_image.reshape(X_test_VI_image.shape[0], img_x_VI, img_y_VI, img_z_VI)"
   ]
  },
  {
   "cell_type": "code",
   "execution_count": 270,
   "metadata": {},
   "outputs": [
    {
     "data": {
      "text/plain": [
       "(1688, 16, 8, 2)"
      ]
     },
     "execution_count": 270,
     "metadata": {},
     "output_type": "execute_result"
    }
   ],
   "source": [
    "x_train_VI_image.shape"
   ]
  },
  {
   "cell_type": "code",
   "execution_count": 225,
   "metadata": {},
   "outputs": [
    {
     "data": {
      "text/plain": [
       "(1688, 17)"
      ]
     },
     "execution_count": 225,
     "metadata": {},
     "output_type": "execute_result"
    }
   ],
   "source": [
    "y_train_VI_image.shape"
   ]
  },
  {
   "cell_type": "code",
   "execution_count": 226,
   "metadata": {},
   "outputs": [
    {
     "data": {
      "text/plain": [
       "(188, 17)"
      ]
     },
     "execution_count": 226,
     "metadata": {},
     "output_type": "execute_result"
    }
   ],
   "source": [
    "y_test_VI_image.shape"
   ]
  },
  {
   "cell_type": "code",
   "execution_count": 290,
   "metadata": {},
   "outputs": [
    {
     "name": "stdout",
     "output_type": "stream",
     "text": [
      "Epoch 1/100\n",
      "6/6 [==============================] - 1s 54ms/step - loss: 2.5344 - accuracy: 0.2067 - val_loss: 1.9720 - val_accuracy: 0.3723\n",
      "Epoch 2/100\n",
      "6/6 [==============================] - 0s 40ms/step - loss: 1.8294 - accuracy: 0.4099 - val_loss: 1.5597 - val_accuracy: 0.5532\n",
      "Epoch 3/100\n",
      "6/6 [==============================] - 0s 40ms/step - loss: 1.4519 - accuracy: 0.5202 - val_loss: 1.2862 - val_accuracy: 0.6755\n",
      "Epoch 4/100\n",
      "6/6 [==============================] - 0s 39ms/step - loss: 1.2716 - accuracy: 0.5752 - val_loss: 1.0383 - val_accuracy: 0.6968\n",
      "Epoch 5/100\n",
      "6/6 [==============================] - 0s 42ms/step - loss: 1.0658 - accuracy: 0.6475 - val_loss: 0.9357 - val_accuracy: 0.7181\n",
      "Epoch 6/100\n",
      "6/6 [==============================] - 0s 39ms/step - loss: 0.9995 - accuracy: 0.6557 - val_loss: 0.8510 - val_accuracy: 0.7340\n",
      "Epoch 7/100\n",
      "6/6 [==============================] - 0s 42ms/step - loss: 0.8665 - accuracy: 0.6901 - val_loss: 0.8359 - val_accuracy: 0.7234\n",
      "Epoch 8/100\n",
      "6/6 [==============================] - 0s 49ms/step - loss: 0.8668 - accuracy: 0.7059 - val_loss: 0.7772 - val_accuracy: 0.7394\n",
      "Epoch 9/100\n",
      "6/6 [==============================] - 0s 41ms/step - loss: 0.7910 - accuracy: 0.7547 - val_loss: 0.7739 - val_accuracy: 0.7394\n",
      "Epoch 10/100\n",
      "6/6 [==============================] - 0s 42ms/step - loss: 0.7576 - accuracy: 0.7481 - val_loss: 0.7631 - val_accuracy: 0.7553\n",
      "Epoch 11/100\n",
      "6/6 [==============================] - 0s 39ms/step - loss: 0.7471 - accuracy: 0.7437 - val_loss: 0.7346 - val_accuracy: 0.7500\n",
      "Epoch 12/100\n",
      "6/6 [==============================] - 0s 39ms/step - loss: 0.7433 - accuracy: 0.7440 - val_loss: 0.7166 - val_accuracy: 0.7713\n",
      "Epoch 13/100\n",
      "6/6 [==============================] - 0s 39ms/step - loss: 0.7422 - accuracy: 0.7470 - val_loss: 0.7397 - val_accuracy: 0.7606\n",
      "Epoch 14/100\n",
      "6/6 [==============================] - 0s 39ms/step - loss: 0.6988 - accuracy: 0.7500 - val_loss: 0.6924 - val_accuracy: 0.7766\n",
      "Epoch 15/100\n",
      "6/6 [==============================] - 0s 40ms/step - loss: 0.6558 - accuracy: 0.7795 - val_loss: 0.6736 - val_accuracy: 0.7979\n",
      "Epoch 16/100\n",
      "6/6 [==============================] - 0s 40ms/step - loss: 0.6601 - accuracy: 0.7701 - val_loss: 0.6877 - val_accuracy: 0.7660\n",
      "Epoch 17/100\n",
      "6/6 [==============================] - 0s 41ms/step - loss: 0.6345 - accuracy: 0.7939 - val_loss: 0.6730 - val_accuracy: 0.7766\n",
      "Epoch 18/100\n",
      "6/6 [==============================] - 0s 43ms/step - loss: 0.6342 - accuracy: 0.7954 - val_loss: 0.6289 - val_accuracy: 0.8032\n",
      "Epoch 19/100\n",
      "6/6 [==============================] - 0s 40ms/step - loss: 0.5891 - accuracy: 0.8116 - val_loss: 0.6194 - val_accuracy: 0.8138\n",
      "Epoch 20/100\n",
      "6/6 [==============================] - 0s 41ms/step - loss: 0.5617 - accuracy: 0.8193 - val_loss: 0.6400 - val_accuracy: 0.8032\n",
      "Epoch 21/100\n",
      "6/6 [==============================] - 0s 40ms/step - loss: 0.5336 - accuracy: 0.8254 - val_loss: 0.6042 - val_accuracy: 0.8138\n",
      "Epoch 22/100\n",
      "6/6 [==============================] - 0s 40ms/step - loss: 0.5535 - accuracy: 0.8244 - val_loss: 0.6100 - val_accuracy: 0.8032\n",
      "Epoch 23/100\n",
      "6/6 [==============================] - 0s 40ms/step - loss: 0.5270 - accuracy: 0.8298 - val_loss: 0.6077 - val_accuracy: 0.8032\n",
      "Epoch 24/100\n",
      "6/6 [==============================] - 0s 41ms/step - loss: 0.5105 - accuracy: 0.8355 - val_loss: 0.5862 - val_accuracy: 0.8191\n",
      "Epoch 25/100\n",
      "6/6 [==============================] - 0s 40ms/step - loss: 0.5253 - accuracy: 0.8152 - val_loss: 0.5751 - val_accuracy: 0.8351\n",
      "Epoch 26/100\n",
      "6/6 [==============================] - 0s 42ms/step - loss: 0.4908 - accuracy: 0.8413 - val_loss: 0.5657 - val_accuracy: 0.8085\n",
      "Epoch 27/100\n",
      "6/6 [==============================] - 0s 45ms/step - loss: 0.4718 - accuracy: 0.8486 - val_loss: 0.5760 - val_accuracy: 0.8032\n",
      "Epoch 28/100\n",
      "6/6 [==============================] - 0s 53ms/step - loss: 0.4625 - accuracy: 0.8490 - val_loss: 0.5516 - val_accuracy: 0.8404\n",
      "Epoch 29/100\n",
      "6/6 [==============================] - 0s 42ms/step - loss: 0.4711 - accuracy: 0.8536 - val_loss: 0.5588 - val_accuracy: 0.8298\n",
      "Epoch 30/100\n",
      "6/6 [==============================] - 0s 48ms/step - loss: 0.4473 - accuracy: 0.8555 - val_loss: 0.5379 - val_accuracy: 0.8351\n",
      "Epoch 31/100\n",
      "6/6 [==============================] - 0s 45ms/step - loss: 0.4071 - accuracy: 0.8735 - val_loss: 0.5785 - val_accuracy: 0.8191\n",
      "Epoch 32/100\n",
      "6/6 [==============================] - 0s 48ms/step - loss: 0.4219 - accuracy: 0.8553 - val_loss: 0.5558 - val_accuracy: 0.8245\n",
      "Epoch 33/100\n",
      "6/6 [==============================] - 0s 41ms/step - loss: 0.4545 - accuracy: 0.8510 - val_loss: 0.5607 - val_accuracy: 0.8404\n",
      "Epoch 34/100\n",
      "6/6 [==============================] - 0s 44ms/step - loss: 0.4369 - accuracy: 0.8616 - val_loss: 0.5698 - val_accuracy: 0.8298\n",
      "Epoch 35/100\n",
      "6/6 [==============================] - 0s 40ms/step - loss: 0.4248 - accuracy: 0.8657 - val_loss: 0.5851 - val_accuracy: 0.8138\n",
      "Epoch 36/100\n",
      "6/6 [==============================] - 0s 39ms/step - loss: 0.4341 - accuracy: 0.8618 - val_loss: 0.5103 - val_accuracy: 0.8564\n",
      "Epoch 37/100\n",
      "6/6 [==============================] - 0s 37ms/step - loss: 0.4410 - accuracy: 0.8572 - val_loss: 0.5737 - val_accuracy: 0.8245\n",
      "Epoch 38/100\n",
      "6/6 [==============================] - 0s 36ms/step - loss: 0.3998 - accuracy: 0.8754 - val_loss: 0.5188 - val_accuracy: 0.8351\n",
      "Epoch 39/100\n",
      "6/6 [==============================] - 0s 39ms/step - loss: 0.3964 - accuracy: 0.8707 - val_loss: 0.5363 - val_accuracy: 0.8511\n",
      "Epoch 40/100\n",
      "6/6 [==============================] - 0s 41ms/step - loss: 0.3866 - accuracy: 0.8801 - val_loss: 0.5769 - val_accuracy: 0.8138\n",
      "Epoch 41/100\n",
      "6/6 [==============================] - 0s 37ms/step - loss: 0.4186 - accuracy: 0.8491 - val_loss: 0.5476 - val_accuracy: 0.8404\n",
      "Epoch 42/100\n",
      "6/6 [==============================] - 0s 42ms/step - loss: 0.4135 - accuracy: 0.8748 - val_loss: 0.5377 - val_accuracy: 0.8404\n",
      "Epoch 43/100\n",
      "6/6 [==============================] - 0s 38ms/step - loss: 0.3621 - accuracy: 0.8923 - val_loss: 0.5192 - val_accuracy: 0.8457\n",
      "Epoch 44/100\n",
      "6/6 [==============================] - 0s 40ms/step - loss: 0.3660 - accuracy: 0.8920 - val_loss: 0.5523 - val_accuracy: 0.8404\n",
      "Epoch 45/100\n",
      "6/6 [==============================] - 0s 38ms/step - loss: 0.3673 - accuracy: 0.8828 - val_loss: 0.5133 - val_accuracy: 0.8617\n",
      "Epoch 46/100\n",
      "6/6 [==============================] - 0s 38ms/step - loss: 0.3481 - accuracy: 0.8916 - val_loss: 0.5842 - val_accuracy: 0.8404\n",
      "Epoch 47/100\n",
      "6/6 [==============================] - 0s 41ms/step - loss: 0.3731 - accuracy: 0.8754 - val_loss: 0.5109 - val_accuracy: 0.8670\n",
      "Epoch 48/100\n",
      "6/6 [==============================] - 0s 38ms/step - loss: 0.3280 - accuracy: 0.8929 - val_loss: 0.5029 - val_accuracy: 0.8723\n",
      "Epoch 49/100\n",
      "6/6 [==============================] - 0s 40ms/step - loss: 0.3288 - accuracy: 0.8986 - val_loss: 0.5102 - val_accuracy: 0.8511\n",
      "Epoch 50/100\n",
      "6/6 [==============================] - 0s 40ms/step - loss: 0.3169 - accuracy: 0.9007 - val_loss: 0.5057 - val_accuracy: 0.8617\n",
      "Epoch 51/100\n",
      "6/6 [==============================] - 0s 41ms/step - loss: 0.3143 - accuracy: 0.9077 - val_loss: 0.5067 - val_accuracy: 0.8670\n",
      "Epoch 52/100\n",
      "6/6 [==============================] - 0s 42ms/step - loss: 0.3166 - accuracy: 0.8995 - val_loss: 0.5174 - val_accuracy: 0.8670\n",
      "Epoch 53/100\n",
      "6/6 [==============================] - 0s 41ms/step - loss: 0.3175 - accuracy: 0.9019 - val_loss: 0.5137 - val_accuracy: 0.8564\n",
      "Epoch 54/100\n",
      "6/6 [==============================] - 0s 42ms/step - loss: 0.3188 - accuracy: 0.8943 - val_loss: 0.5026 - val_accuracy: 0.8670\n",
      "Epoch 55/100\n",
      "6/6 [==============================] - 0s 38ms/step - loss: 0.3259 - accuracy: 0.8948 - val_loss: 0.5029 - val_accuracy: 0.8777\n",
      "Epoch 56/100\n",
      "6/6 [==============================] - 0s 41ms/step - loss: 0.2928 - accuracy: 0.9092 - val_loss: 0.4879 - val_accuracy: 0.8723\n",
      "Epoch 57/100\n",
      "6/6 [==============================] - 0s 38ms/step - loss: 0.3068 - accuracy: 0.9022 - val_loss: 0.5050 - val_accuracy: 0.8617\n",
      "Epoch 58/100\n",
      "6/6 [==============================] - 0s 42ms/step - loss: 0.2854 - accuracy: 0.9086 - val_loss: 0.4841 - val_accuracy: 0.8617\n",
      "Epoch 59/100\n"
     ]
    },
    {
     "name": "stdout",
     "output_type": "stream",
     "text": [
      "6/6 [==============================] - 0s 39ms/step - loss: 0.2863 - accuracy: 0.9152 - val_loss: 0.4777 - val_accuracy: 0.8777\n",
      "Epoch 60/100\n",
      "6/6 [==============================] - 0s 39ms/step - loss: 0.2873 - accuracy: 0.9028 - val_loss: 0.5010 - val_accuracy: 0.8723\n",
      "Epoch 61/100\n",
      "6/6 [==============================] - 0s 35ms/step - loss: 0.3132 - accuracy: 0.9052 - val_loss: 0.5266 - val_accuracy: 0.8670\n",
      "Epoch 62/100\n",
      "6/6 [==============================] - 0s 40ms/step - loss: 0.2892 - accuracy: 0.9173 - val_loss: 0.5014 - val_accuracy: 0.8777\n",
      "Epoch 63/100\n",
      "6/6 [==============================] - 0s 36ms/step - loss: 0.2735 - accuracy: 0.9211 - val_loss: 0.4742 - val_accuracy: 0.8830\n",
      "Epoch 64/100\n",
      "6/6 [==============================] - 0s 39ms/step - loss: 0.2842 - accuracy: 0.9142 - val_loss: 0.4932 - val_accuracy: 0.8883\n",
      "Epoch 65/100\n",
      "6/6 [==============================] - 0s 37ms/step - loss: 0.2728 - accuracy: 0.9187 - val_loss: 0.4923 - val_accuracy: 0.8830\n",
      "Epoch 66/100\n",
      "6/6 [==============================] - 0s 38ms/step - loss: 0.2879 - accuracy: 0.9077 - val_loss: 0.4812 - val_accuracy: 0.8830\n",
      "Epoch 67/100\n",
      "6/6 [==============================] - 0s 37ms/step - loss: 0.2765 - accuracy: 0.9197 - val_loss: 0.5031 - val_accuracy: 0.8723\n",
      "Epoch 68/100\n",
      "6/6 [==============================] - 0s 40ms/step - loss: 0.2747 - accuracy: 0.9170 - val_loss: 0.4873 - val_accuracy: 0.8936\n",
      "Epoch 69/100\n",
      "6/6 [==============================] - 0s 37ms/step - loss: 0.2815 - accuracy: 0.9083 - val_loss: 0.4848 - val_accuracy: 0.8830\n",
      "Epoch 70/100\n",
      "6/6 [==============================] - 0s 41ms/step - loss: 0.2635 - accuracy: 0.9182 - val_loss: 0.4943 - val_accuracy: 0.8617\n",
      "Epoch 71/100\n",
      "6/6 [==============================] - 0s 36ms/step - loss: 0.2505 - accuracy: 0.9229 - val_loss: 0.5154 - val_accuracy: 0.8777\n",
      "Epoch 72/100\n",
      "6/6 [==============================] - 0s 39ms/step - loss: 0.2659 - accuracy: 0.9216 - val_loss: 0.4702 - val_accuracy: 0.8723\n",
      "Epoch 73/100\n",
      "6/6 [==============================] - 0s 37ms/step - loss: 0.2565 - accuracy: 0.9190 - val_loss: 0.4909 - val_accuracy: 0.8723\n",
      "Epoch 74/100\n",
      "6/6 [==============================] - 0s 41ms/step - loss: 0.3000 - accuracy: 0.8944 - val_loss: 0.5032 - val_accuracy: 0.8777\n",
      "Epoch 75/100\n",
      "6/6 [==============================] - 0s 37ms/step - loss: 0.2819 - accuracy: 0.9134 - val_loss: 0.5476 - val_accuracy: 0.8511\n",
      "Epoch 76/100\n",
      "6/6 [==============================] - 0s 38ms/step - loss: 0.2573 - accuracy: 0.9181 - val_loss: 0.5302 - val_accuracy: 0.8511\n",
      "Epoch 77/100\n",
      "6/6 [==============================] - 0s 39ms/step - loss: 0.2714 - accuracy: 0.9161 - val_loss: 0.5384 - val_accuracy: 0.8723\n",
      "Epoch 78/100\n",
      "6/6 [==============================] - 0s 38ms/step - loss: 0.2599 - accuracy: 0.9131 - val_loss: 0.4898 - val_accuracy: 0.8830\n",
      "Epoch 79/100\n",
      "6/6 [==============================] - 0s 37ms/step - loss: 0.2734 - accuracy: 0.9124 - val_loss: 0.5121 - val_accuracy: 0.8830\n",
      "Epoch 80/100\n",
      "6/6 [==============================] - 0s 38ms/step - loss: 0.2515 - accuracy: 0.9198 - val_loss: 0.5069 - val_accuracy: 0.8936\n",
      "Epoch 81/100\n",
      "6/6 [==============================] - 0s 37ms/step - loss: 0.2578 - accuracy: 0.9255 - val_loss: 0.5123 - val_accuracy: 0.8723\n",
      "Epoch 82/100\n",
      "6/6 [==============================] - 0s 40ms/step - loss: 0.2480 - accuracy: 0.9285 - val_loss: 0.5182 - val_accuracy: 0.8670\n",
      "Epoch 83/100\n",
      "6/6 [==============================] - 0s 37ms/step - loss: 0.2314 - accuracy: 0.9290 - val_loss: 0.5138 - val_accuracy: 0.8777\n",
      "Epoch 84/100\n",
      "6/6 [==============================] - 0s 39ms/step - loss: 0.2486 - accuracy: 0.9220 - val_loss: 0.4965 - val_accuracy: 0.8830\n",
      "Epoch 85/100\n",
      "6/6 [==============================] - 0s 39ms/step - loss: 0.2451 - accuracy: 0.9271 - val_loss: 0.4904 - val_accuracy: 0.8830\n",
      "Epoch 86/100\n",
      "6/6 [==============================] - 0s 41ms/step - loss: 0.2478 - accuracy: 0.9273 - val_loss: 0.5143 - val_accuracy: 0.8883\n",
      "Epoch 87/100\n",
      "6/6 [==============================] - 0s 38ms/step - loss: 0.2714 - accuracy: 0.9143 - val_loss: 0.4917 - val_accuracy: 0.8883\n",
      "Epoch 88/100\n",
      "6/6 [==============================] - 0s 41ms/step - loss: 0.2400 - accuracy: 0.9267 - val_loss: 0.5254 - val_accuracy: 0.8777\n",
      "Epoch 89/100\n",
      "6/6 [==============================] - 0s 43ms/step - loss: 0.2507 - accuracy: 0.9187 - val_loss: 0.4775 - val_accuracy: 0.8883\n",
      "Epoch 90/100\n",
      "6/6 [==============================] - 0s 41ms/step - loss: 0.2480 - accuracy: 0.9254 - val_loss: 0.5374 - val_accuracy: 0.8723\n",
      "Epoch 91/100\n",
      "6/6 [==============================] - 0s 37ms/step - loss: 0.2467 - accuracy: 0.9202 - val_loss: 0.5096 - val_accuracy: 0.8723\n",
      "Epoch 92/100\n",
      "6/6 [==============================] - 0s 37ms/step - loss: 0.2275 - accuracy: 0.9276 - val_loss: 0.5279 - val_accuracy: 0.8670\n",
      "Epoch 93/100\n",
      "6/6 [==============================] - 0s 37ms/step - loss: 0.2411 - accuracy: 0.9212 - val_loss: 0.5009 - val_accuracy: 0.8936\n",
      "Epoch 94/100\n",
      "6/6 [==============================] - 0s 40ms/step - loss: 0.2188 - accuracy: 0.9285 - val_loss: 0.5415 - val_accuracy: 0.8723\n",
      "Epoch 95/100\n",
      "6/6 [==============================] - 0s 40ms/step - loss: 0.2346 - accuracy: 0.9291 - val_loss: 0.4855 - val_accuracy: 0.8883\n",
      "Epoch 96/100\n",
      "6/6 [==============================] - 0s 38ms/step - loss: 0.2356 - accuracy: 0.9234 - val_loss: 0.5125 - val_accuracy: 0.8830\n",
      "Epoch 97/100\n",
      "6/6 [==============================] - 0s 41ms/step - loss: 0.2246 - accuracy: 0.9320 - val_loss: 0.5012 - val_accuracy: 0.8830\n",
      "Epoch 98/100\n",
      "6/6 [==============================] - 0s 38ms/step - loss: 0.2274 - accuracy: 0.9252 - val_loss: 0.4837 - val_accuracy: 0.8830\n",
      "Epoch 99/100\n",
      "6/6 [==============================] - 0s 43ms/step - loss: 0.1969 - accuracy: 0.9412 - val_loss: 0.5216 - val_accuracy: 0.8883\n",
      "Epoch 100/100\n",
      "6/6 [==============================] - 0s 42ms/step - loss: 0.2320 - accuracy: 0.9278 - val_loss: 0.5038 - val_accuracy: 0.8830\n",
      "Train loss: 0.2073461413383484, Train accuracy: 0.9348341226577759\n",
      "Test loss: 0.5038400888442993, Test accuracy: 0.8829787373542786\n"
     ]
    }
   ],
   "source": [
    "from keras.layers import Dropout\n",
    "\n",
    "input_sh_VI_image = (img_x_VI, img_y_VI, img_z_VI)\n",
    "epochs = 100\n",
    "batch_size = 300\n",
    "\n",
    "model_VI_image = Sequential()\n",
    "model_VI_image.add(Conv2D(32, kernel_size=(2, 2), strides=(1, 1), activation='relu', input_shape=input_sh_VI_image)) \n",
    "model_VI_image.add(MaxPooling2D(pool_size=(3, 3), strides=(1, 1)))\n",
    "model_VI_image.add(Conv2D(64, (5, 5), activation='relu'))\n",
    "model_VI_image.add(MaxPooling2D(pool_size=(1, 1)))\n",
    "model_VI_image.add(Flatten())\n",
    "model_VI_image.add(Dense(2000, activation='relu'))\n",
    "model_VI_image.add(Dropout(0.5, input_shape=(1,)))\n",
    "model_VI_image.add(Dense(num_classes, activation='softmax'))\n",
    "\n",
    "model_VI_image.compile(loss=keras.losses.categorical_crossentropy, \n",
    "              optimizer=keras.optimizers.Adam(), \n",
    "              metrics=['accuracy'])\n",
    "\n",
    "model_VI_image.fit(x_train_VI_image, y_train_VI_image, batch_size=batch_size, \n",
    "          epochs=epochs, verbose=1, \n",
    "          validation_data=(x_test_VI_image, y_test_VI_image), \n",
    "          callbacks=[history_VI_image])\n",
    "\n",
    "train_score = model_VI_image.evaluate(x_train_VI_image, y_train_VI_image, verbose=0)\n",
    "print('Train loss: {}, Train accuracy: {}'.format(train_score[0], train_score[1]))\n",
    "test_score = model_VI_image.evaluate(x_test_VI_image, y_test_VI_image, verbose=0)\n",
    "print('Test loss: {}, Test accuracy: {}'.format(test_score[0], test_score[1]))"
   ]
  },
  {
   "cell_type": "code",
   "execution_count": 291,
   "metadata": {},
   "outputs": [
    {
     "data": {
      "image/png": "[encoded data removed]",
      "text/plain": [
       "<Figure size 720x432 with 1 Axes>"
      ]
     },
     "metadata": {},
     "output_type": "display_data"
    }
   ],
   "source": [
    "plt.plot(history_VI_image.epoch, np.array(history_VI_image.history['val_loss']),\n",
    "           label = 'Test loss')\n",
    "plt.plot(history_VI_image.epoch, np.array(history_VI_image.history['loss']),\n",
    "           label = 'Train loss')\n",
    "plt.legend()\n",
    "plt.show()"
   ]
  },
  {
   "cell_type": "code",
   "execution_count": 292,
   "metadata": {},
   "outputs": [
    {
     "data": {
      "image/png": "[encoded data removed]",
      "text/plain": [
       "<Figure size 720x432 with 1 Axes>"
      ]
     },
     "metadata": {},
     "output_type": "display_data"
    }
   ],
   "source": [
    "plt.plot(history_VI_image.epoch, np.array(history_VI_image.history['val_accuracy']),\n",
    "           label = 'Test accuracy')\n",
    "plt.plot(history_VI_image.epoch, np.array(history_VI_image.history['accuracy']),\n",
    "           label = 'Train accuracy')\n",
    "plt.legend()\n",
    "plt.show()"
   ]
  },
  {
   "cell_type": "code",
   "execution_count": null,
   "metadata": {},
   "outputs": [],
   "source": []
  },
  {
   "cell_type": "code",
   "execution_count": null,
   "metadata": {},
   "outputs": [],
   "source": []
  },
  {
   "cell_type": "code",
   "execution_count": null,
   "metadata": {},
   "outputs": [],
   "source": []
  },
  {
   "cell_type": "code",
   "execution_count": null,
   "metadata": {},
   "outputs": [],
   "source": []
  }
 ],
 "metadata": {
  "kernelspec": {
   "display_name": "Python 3",
   "language": "python",
   "name": "python3"
  },
  "language_info": {
   "codemirror_mode": {
    "name": "ipython",
    "version": 3
   },
   "file_extension": ".py",
   "mimetype": "text/x-python",
   "name": "python",
   "nbconvert_exporter": "python",
   "pygments_lexer": "ipython3",
   "version": "3.8.5"
  }
 },
 "nbformat": 4,
 "nbformat_minor": 4
}
